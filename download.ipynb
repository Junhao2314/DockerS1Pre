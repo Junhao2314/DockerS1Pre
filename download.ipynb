{
 "cells": [
  {
   "cell_type": "markdown",
   "id": "4d40135a",
   "metadata": {},
   "source": [
    "# Init"
   ]
  },
  {
   "cell_type": "code",
   "execution_count": 1,
   "id": "b8e9da30",
   "metadata": {},
   "outputs": [
    {
     "name": "stderr",
     "output_type": "stream",
     "text": [
      "C:\\Users\\19735\\AppData\\Local\\Temp\\ipykernel_498472\\2743640760.py:12: DeprecationWarning: The 'unary_union' attribute is deprecated, use the 'union_all()' method instead.\n",
      "  roi_geometry = roi.unary_union\n"
     ]
    }
   ],
   "source": [
    "roi_file = \"./roi/land.shp\"  # Replace with your ROI file path\n",
    "output_dir = \"./data\"  # Replace with your output directory path\n",
    "\n",
    "# 定义日期范围（替换为你需要的日期）\n",
    "start_date = \"2023-01-01\"  # 开始日期\n",
    "end_date = \"2023-01-15\"    # 结束日期\n",
    "datetime_range = f\"{start_date}/{end_date}\"\n",
    "\n",
    "import geopandas as gpd\n",
    "roi = gpd.read_file(roi_file).to_crs('epsg:4326')  # Replace with your ROI file path\n",
    "\n",
    "roi_geometry = roi.unary_union\n",
    "minx, miny, maxx, maxy = roi.total_bounds\n",
    "bbox = [minx, miny, maxx, maxy]\n",
    "\n",
    "import os \n",
    "output_dir = os.path.abspath(output_dir)\n",
    "os.makedirs(output_dir, exist_ok=True)"
   ]
  },
  {
   "cell_type": "markdown",
   "id": "a9cdd66d",
   "metadata": {},
   "source": [
    "# Eodag\n",
    "参考：https://github.com/CS-SI/eodag\n"
   ]
  },
  {
   "cell_type": "markdown",
   "id": "ae6a963f",
   "metadata": {},
   "source": [
    "\n",
    "For downloading you will need to fill your credentials for the desired providers in [your eodag user configuration file](https://eodag.readthedocs.io/en/latest/getting_started_guide/configure.html). The file will automatically be created with empty values on the first run."
   ]
  },
  {
   "cell_type": "code",
   "execution_count": null,
   "id": "1f65febe",
   "metadata": {},
   "outputs": [],
   "source": [
    "# %conda install -c conda-forge eodag"
   ]
  },
  {
   "cell_type": "code",
   "execution_count": null,
   "id": "9deefc0b",
   "metadata": {},
   "outputs": [
    {
     "name": "stdout",
     "output_type": "stream",
     "text": [
      "Found 8 products\n"
     ]
    }
   ],
   "source": [
    "from eodag import EODataAccessGateway, setup_logging\n",
    "\n",
    "setup_logging(1) # 0: nothing, 1: only progress bars, 2: INFO, 3: DEBUG\n",
    "\n",
    "dag = EODataAccessGateway()\n",
    "dag.set_preferred_provider(\"cop_dataspace\")  # 设置首选提供商为 cop_dataspace\n",
    "# dag.update_providers_config(f\"\"\"\n",
    "#     cop_dataspace:\n",
    "#         auth:\n",
    "#             credentials:\n",
    "#                 username: # Replace with your username\n",
    "#                 password: # Replace with your password\n",
    "#         download:\n",
    "#             extract: false   # 是否解压下载的产品，默认为 true\n",
    "#             delete_archive: false # 是否删除下载的归档文件，默认为 true\n",
    "#             output_dir: {output_dir}  # maybe output_prefix\n",
    "# \"\"\")\n",
    "\n",
    "# 查找产品名称\n",
    "# dag.guess_product_type(keywords=\"S1\")\n",
    "# dag.available_providers('S1_SAR_GRD')  check available providers for a product type\n",
    "\n",
    "products = dag.search(\n",
    "  productType=\"S1_SAR_GRD\",\n",
    "  geom=roi_geometry,\n",
    "  start=start_date,\n",
    "  end=end_date,\n",
    "  # cloudCover=51,\n",
    ")\n",
    "print(f\"Found {len(products)} products\")\n"
   ]
  },
  {
   "cell_type": "code",
   "execution_count": null,
   "id": "f0583278",
   "metadata": {},
   "outputs": [],
   "source": [
    "import folium\n",
    "\n",
    "# 获取多边形的中心点坐标\n",
    "center = [roi_geometry.centroid.y, roi_geometry.centroid.x]\n",
    "\n",
    "emap = folium.Map(location=center, zoom_start=4)\n",
    "layer = folium.features.GeoJson(\n",
    "    data=products.as_geojson_object(),\n",
    "    tooltip=folium.GeoJsonTooltip(fields=['title'])\n",
    ").add_to(emap)\n",
    "emap"
   ]
  },
  {
   "cell_type": "code",
   "execution_count": 3,
   "id": "ff3c3f74",
   "metadata": {},
   "outputs": [
    {
     "data": {
      "application/vnd.jupyter.widget-view+json": {
       "model_id": "fa92aded145643ed908024939486d428",
       "version_major": 2,
       "version_minor": 0
      },
      "text/plain": [
       "0.00B [00:00, ?B/s]"
      ]
     },
     "metadata": {},
     "output_type": "display_data"
    },
    {
     "data": {
      "text/plain": [
       "'F:\\\\BaiduNetdiskDownload\\\\Python\\\\DockerS1Pre\\\\data\\\\S1A_EW_GRDM_1SDH_20230101T080118_20230101T080222_046587_059549_9BF0'"
      ]
     },
     "execution_count": 3,
     "metadata": {},
     "output_type": "execute_result"
    }
   ],
   "source": [
    "product_path = products[0].download()\n",
    "\n",
    "product_path"
   ]
  },
  {
   "cell_type": "code",
   "execution_count": null,
   "id": "686afce1",
   "metadata": {},
   "outputs": [],
   "source": [
    "paths = dag.download_all(\n",
    "    products,\n",
    "    output_dir=output_dir,\n",
    ")\n",
    "paths"
   ]
  },
  {
   "cell_type": "markdown",
   "id": "148e4d29",
   "metadata": {},
   "source": [
    "# Geoai\n",
    "参考：https://opengeoai.org/examples/planetary_computer/"
   ]
  },
  {
   "cell_type": "code",
   "execution_count": null,
   "id": "962439e2",
   "metadata": {},
   "outputs": [],
   "source": [
    "# %pip install geoai-py --ignore-installed blinker"
   ]
  },
  {
   "cell_type": "code",
   "execution_count": 55,
   "id": "141c3028",
   "metadata": {},
   "outputs": [],
   "source": [
    "import geoai"
   ]
  },
  {
   "cell_type": "code",
   "execution_count": 56,
   "id": "b9b83028",
   "metadata": {},
   "outputs": [
    {
     "name": "stdout",
     "output_type": "stream",
     "text": [
      "Retrieved 126 collections from Planetary Computer\n"
     ]
    },
    {
     "data": {
      "application/vnd.microsoft.datawrangler.viewer.v0+json": {
       "columns": [
        {
         "name": "index",
         "rawType": "int64",
         "type": "integer"
        },
        {
         "name": "id",
         "rawType": "object",
         "type": "string"
        },
        {
         "name": "title",
         "rawType": "object",
         "type": "string"
        },
        {
         "name": "description",
         "rawType": "object",
         "type": "string"
        }
       ],
       "ref": "9c5db4e9-994f-4b69-9431-5f7d8aa752ff",
       "rows": [
        [
         "42",
         "3dep-lidar-classification",
         "USGS 3DEP Lidar Classification",
         "This collection is derived from the [USGS 3DEP COPC collection](https://planetarycomputer.microsoft...."
        ],
        [
         "28",
         "3dep-lidar-copc",
         "USGS 3DEP Lidar Point Cloud",
         "This collection contains source data from the [USGS 3DEP program](https://www.usgs.gov/3d-elevation-..."
        ],
        [
         "3",
         "3dep-lidar-dsm",
         "USGS 3DEP Lidar Digital Surface Model",
         "This collection is derived from the [USGS 3DEP COPC collection](https://planetarycomputer.microsoft...."
        ],
        [
         "43",
         "3dep-lidar-dtm",
         "USGS 3DEP Lidar Digital Terrain Model",
         "This collection is derived from the [USGS 3DEP COPC collection](https://planetarycomputer.microsoft...."
        ],
        [
         "41",
         "3dep-lidar-dtm-native",
         "USGS 3DEP Lidar Digital Terrain Model (Native)",
         "This collection is derived from the [USGS 3DEP COPC collection](https://planetarycomputer.microsoft...."
        ],
        [
         "19",
         "3dep-lidar-hag",
         "USGS 3DEP Lidar Height above Ground",
         "This COG type is generated using the Z dimension of the [COPC data](https://planetarycomputer.micros..."
        ],
        [
         "24",
         "3dep-lidar-intensity",
         "USGS 3DEP Lidar Intensity",
         "This collection is derived from the [USGS 3DEP COPC collection](https://planetarycomputer.microsoft...."
        ],
        [
         "25",
         "3dep-lidar-pointsourceid",
         "USGS 3DEP Lidar Point Source",
         "This collection is derived from the [USGS 3DEP COPC collection](https://planetarycomputer.microsoft...."
        ],
        [
         "31",
         "3dep-lidar-returns",
         "USGS 3DEP Lidar Returns",
         "This collection is derived from the [USGS 3DEP COPC collection](https://planetarycomputer.microsoft...."
        ],
        [
         "2",
         "3dep-seamless",
         "USGS 3DEP Seamless DEMs",
         "U.S.-wide digital elevation data at horizontal resolutions ranging from one to sixty meters.\n\nThe [U..."
        ],
        [
         "50",
         "alos-dem",
         "ALOS World 3D-30m",
         "The \"ALOS World 3D-30m\" (AW3D30) dataset is a 30 meter resolution global digital surface model (DSM)..."
        ],
        [
         "30",
         "alos-fnf-mosaic",
         "ALOS Forest/Non-Forest Annual Mosaic",
         "The global 25m resolution SAR mosaics and forest/non-forest maps are free and open annual datasets g..."
        ],
        [
         "51",
         "alos-palsar-mosaic",
         "ALOS PALSAR Annual Mosaic",
         "Global 25 m Resolution PALSAR-2/PALSAR Mosaic (MOS)"
        ],
        [
         "96",
         "aster-l1t",
         "ASTER L1T",
         "The [ASTER](https://terra.nasa.gov/about/terra-instruments/aster) instrument, launched on-board NASA..."
        ],
        [
         "79",
         "chesapeake-lc-13",
         "Chesapeake Land Cover (13-class)",
         "A high-resolution 1-meter [land cover data product](https://www.chesapeakeconservancy.org/conservati..."
        ],
        [
         "78",
         "chesapeake-lc-7",
         "Chesapeake Land Cover (7-class)",
         "A high-resolution 1-meter [land cover data product](https://www.chesapeakeconservancy.org/conservati..."
        ],
        [
         "80",
         "chesapeake-lu",
         "Chesapeake Land Use",
         "A high-resolution 1-meter [land use data product](https://www.chesapeakeconservancy.org/conservation..."
        ],
        [
         "35",
         "chloris-biomass",
         "Chloris Biomass",
         "The Chloris Global Biomass 2003 - 2019 dataset provides estimates of stock and change in aboveground..."
        ],
        [
         "104",
         "cil-gdpcir-cc-by",
         "CIL Global Downscaled Projections for Climate Impacts Research (CC-BY-4.0)",
         "The World Climate Research Programme's [6th Coupled Model Intercomparison Project (CMIP6)](https://w..."
        ],
        [
         "97",
         "cil-gdpcir-cc-by-sa",
         "CIL Global Downscaled Projections for Climate Impacts Research (CC-BY-SA-4.0)",
         "The World Climate Research Programme's [6th Coupled Model Intercomparison Project (CMIP6)](https://w..."
        ],
        [
         "103",
         "cil-gdpcir-cc0",
         "CIL Global Downscaled Projections for Climate Impacts Research (CC0-1.0)",
         "The World Climate Research Programme's [6th Coupled Model Intercomparison Project (CMIP6)](https://w..."
        ],
        [
         "22",
         "conus404",
         "CONUS404",
         "[CONUS404](https://www.usgs.gov/data/conus404-four-kilometer-long-term-regional-hydroclimate-reanaly..."
        ],
        [
         "13",
         "cop-dem-glo-30",
         "Copernicus DEM GLO-30",
         "The Copernicus DEM is a digital surface model (DSM), which represents the surface of the Earth inclu..."
        ],
        [
         "14",
         "cop-dem-glo-90",
         "Copernicus DEM GLO-90",
         "The Copernicus DEM is a digital surface model (DSM), which represents the surface of the Earth inclu..."
        ],
        [
         "8",
         "daymet-annual-hi",
         "Daymet Annual Hawaii",
         "Annual climate summaries derived from [Daymet](https://daymet.ornl.gov) Version 4 daily data at a 1 ..."
        ],
        [
         "6",
         "daymet-annual-na",
         "Daymet Annual North America",
         "Annual climate summaries derived from [Daymet](https://daymet.ornl.gov) Version 4 daily data at a 1 ..."
        ],
        [
         "0",
         "daymet-annual-pr",
         "Daymet Annual Puerto Rico",
         "Annual climate summaries derived from [Daymet](https://daymet.ornl.gov) Version 4 daily data at a 1 ..."
        ],
        [
         "1",
         "daymet-daily-hi",
         "Daymet Daily Hawaii",
         "Gridded estimates of daily weather parameters. [Daymet](https://daymet.ornl.gov) Version 4 variables..."
        ],
        [
         "69",
         "daymet-daily-na",
         "Daymet Daily North America",
         "Gridded estimates of daily weather parameters. [Daymet](https://daymet.ornl.gov) Version 4 variables..."
        ],
        [
         "40",
         "daymet-daily-pr",
         "Daymet Daily Puerto Rico",
         "Gridded estimates of daily weather parameters. [Daymet](https://daymet.ornl.gov) Version 4 variables..."
        ],
        [
         "9",
         "daymet-monthly-hi",
         "Daymet Monthly Hawaii",
         "Monthly climate summaries derived from [Daymet](https://daymet.ornl.gov) Version 4 daily data at a 1..."
        ],
        [
         "7",
         "daymet-monthly-na",
         "Daymet Monthly North America",
         "Monthly climate summaries derived from [Daymet](https://daymet.ornl.gov) Version 4 daily data at a 1..."
        ],
        [
         "10",
         "daymet-monthly-pr",
         "Daymet Monthly Puerto Rico",
         "Monthly climate summaries derived from [Daymet](https://daymet.ornl.gov) Version 4 daily data at a 1..."
        ],
        [
         "57",
         "deltares-floods",
         "Deltares Global Flood Maps",
         "[Deltares](https://www.deltares.nl/en/) has produced inundation maps of flood depth using a model th..."
        ],
        [
         "52",
         "deltares-water-availability",
         "Deltares Global Water Availability",
         "[Deltares](https://www.deltares.nl/en/) has produced a hydrological model approach to simulate histo..."
        ],
        [
         "77",
         "drcog-lulc",
         "Denver Regional Council of Governments Land Use Land Cover",
         "The [Denver Regional Council of Governments (DRCOG) Land Use/Land Cover (LULC)](https://drcog.org/se..."
        ],
        [
         "85",
         "eclipse",
         "Urban Innovation Eclipse Sensor Data",
         "The [Project Eclipse](https://www.microsoft.com/en-us/research/project/project-eclipse/) Network is ..."
        ],
        [
         "72",
         "ecmwf-forecast",
         "ECMWF Open Data (real-time)",
         "The [ECMWF catalog of real-time products](https://www.ecmwf.int/en/forecasts/datasets/catalogue-ecmw..."
        ],
        [
         "34",
         "era5-pds",
         "ERA5 - PDS",
         "ERA5 is the fifth generation ECMWF atmospheric reanalysis of the global climate\ncovering the period ..."
        ],
        [
         "86",
         "esa-cci-lc",
         "ESA Climate Change Initiative Land Cover Maps (Cloud Optimized GeoTIFF)",
         "The ESA Climate Change Initiative (CCI) [Land Cover dataset](https://cds.climate.copernicus.eu/cdsap..."
        ],
        [
         "87",
         "esa-cci-lc-netcdf",
         "ESA Climate Change Initiative Land Cover Maps (NetCDF)",
         "The ESA Climate Change Initiative (CCI) [Land Cover dataset](https://cds.climate.copernicus.eu/cdsap..."
        ],
        [
         "125",
         "esa-worldcover",
         "ESA WorldCover",
         "The European Space Agency (ESA) [WorldCover](https://esa-worldcover.org/en) product provides global ..."
        ],
        [
         "4",
         "fia",
         "Forest Inventory and Analysis",
         "Status and trends on U.S. forest location, health, growth, mortality, and production, from the U.S. ..."
        ],
        [
         "88",
         "fws-nwi",
         "FWS National Wetlands Inventory",
         "The Wetlands Data Layer is the product of over 45 years of work by the National Wetlands Inventory (..."
        ],
        [
         "44",
         "gap",
         "USGS Gap Land Cover",
         "The [USGS GAP/LANDFIRE National Terrestrial Ecosystems data](https://www.sciencebase.gov/catalog/ite..."
        ],
        [
         "47",
         "gbif",
         "Global Biodiversity Information Facility (GBIF)",
         "The [Global Biodiversity Information Facility](https://www.gbif.org) (GBIF) is an international netw..."
        ],
        [
         "18",
         "gnatsgo-rasters",
         "gNATSGO Soil Database - Rasters",
         "This collection contains the raster data for gNATSGO. In order to use the map unit values contained ..."
        ],
        [
         "11",
         "gnatsgo-tables",
         "gNATSGO Soil Database - Tables",
         "This collection contains the table data for gNATSGO. This table data can be used to determine the va..."
        ],
        [
         "21",
         "goes-cmi",
         "GOES-R Cloud & Moisture Imagery",
         "The GOES-R Advanced Baseline Imager (ABI) L2 Cloud and Moisture Imagery product provides 16 reflecti..."
        ],
        [
         "93",
         "goes-glm",
         "GOES-R Lightning Detection",
         "The [Geostationary Lightning Mapper (GLM)](https://www.goes-r.gov/spacesegment/glm.html) is a single..."
        ]
       ],
       "shape": {
        "columns": 3,
        "rows": 126
       }
      },
      "text/html": [
       "<div>\n",
       "<style scoped>\n",
       "    .dataframe tbody tr th:only-of-type {\n",
       "        vertical-align: middle;\n",
       "    }\n",
       "\n",
       "    .dataframe tbody tr th {\n",
       "        vertical-align: top;\n",
       "    }\n",
       "\n",
       "    .dataframe thead th {\n",
       "        text-align: right;\n",
       "    }\n",
       "</style>\n",
       "<table border=\"1\" class=\"dataframe\">\n",
       "  <thead>\n",
       "    <tr style=\"text-align: right;\">\n",
       "      <th></th>\n",
       "      <th>id</th>\n",
       "      <th>title</th>\n",
       "      <th>description</th>\n",
       "    </tr>\n",
       "  </thead>\n",
       "  <tbody>\n",
       "    <tr>\n",
       "      <th>42</th>\n",
       "      <td>3dep-lidar-classification</td>\n",
       "      <td>USGS 3DEP Lidar Classification</td>\n",
       "      <td>This collection is derived from the [USGS 3DEP...</td>\n",
       "    </tr>\n",
       "    <tr>\n",
       "      <th>28</th>\n",
       "      <td>3dep-lidar-copc</td>\n",
       "      <td>USGS 3DEP Lidar Point Cloud</td>\n",
       "      <td>This collection contains source data from the ...</td>\n",
       "    </tr>\n",
       "    <tr>\n",
       "      <th>3</th>\n",
       "      <td>3dep-lidar-dsm</td>\n",
       "      <td>USGS 3DEP Lidar Digital Surface Model</td>\n",
       "      <td>This collection is derived from the [USGS 3DEP...</td>\n",
       "    </tr>\n",
       "    <tr>\n",
       "      <th>43</th>\n",
       "      <td>3dep-lidar-dtm</td>\n",
       "      <td>USGS 3DEP Lidar Digital Terrain Model</td>\n",
       "      <td>This collection is derived from the [USGS 3DEP...</td>\n",
       "    </tr>\n",
       "    <tr>\n",
       "      <th>41</th>\n",
       "      <td>3dep-lidar-dtm-native</td>\n",
       "      <td>USGS 3DEP Lidar Digital Terrain Model (Native)</td>\n",
       "      <td>This collection is derived from the [USGS 3DEP...</td>\n",
       "    </tr>\n",
       "    <tr>\n",
       "      <th>...</th>\n",
       "      <td>...</td>\n",
       "      <td>...</td>\n",
       "      <td>...</td>\n",
       "    </tr>\n",
       "    <tr>\n",
       "      <th>15</th>\n",
       "      <td>terraclimate</td>\n",
       "      <td>TerraClimate</td>\n",
       "      <td>[TerraClimate](http://www.climatologylab.org/t...</td>\n",
       "    </tr>\n",
       "    <tr>\n",
       "      <th>55</th>\n",
       "      <td>us-census</td>\n",
       "      <td>US Census</td>\n",
       "      <td>The [2020 Census](https://www.census.gov/progr...</td>\n",
       "    </tr>\n",
       "    <tr>\n",
       "      <th>84</th>\n",
       "      <td>usda-cdl</td>\n",
       "      <td>USDA Cropland Data Layers (CDLs)</td>\n",
       "      <td>The Cropland Data Layer (CDL) is a product of ...</td>\n",
       "    </tr>\n",
       "    <tr>\n",
       "      <th>89</th>\n",
       "      <td>usgs-lcmap-conus-v13</td>\n",
       "      <td>USGS LCMAP CONUS Collection 1.3</td>\n",
       "      <td>The [Land Change Monitoring, Assessment, and P...</td>\n",
       "    </tr>\n",
       "    <tr>\n",
       "      <th>90</th>\n",
       "      <td>usgs-lcmap-hawaii-v10</td>\n",
       "      <td>USGS LCMAP Hawaii Collection 1.0</td>\n",
       "      <td>The [Land Change Monitoring, Assessment, and P...</td>\n",
       "    </tr>\n",
       "  </tbody>\n",
       "</table>\n",
       "<p>126 rows × 3 columns</p>\n",
       "</div>"
      ],
      "text/plain": [
       "                           id                                           title  \\\n",
       "42  3dep-lidar-classification                  USGS 3DEP Lidar Classification   \n",
       "28            3dep-lidar-copc                     USGS 3DEP Lidar Point Cloud   \n",
       "3              3dep-lidar-dsm           USGS 3DEP Lidar Digital Surface Model   \n",
       "43             3dep-lidar-dtm           USGS 3DEP Lidar Digital Terrain Model   \n",
       "41      3dep-lidar-dtm-native  USGS 3DEP Lidar Digital Terrain Model (Native)   \n",
       "..                        ...                                             ...   \n",
       "15               terraclimate                                    TerraClimate   \n",
       "55                  us-census                                       US Census   \n",
       "84                   usda-cdl                USDA Cropland Data Layers (CDLs)   \n",
       "89       usgs-lcmap-conus-v13                 USGS LCMAP CONUS Collection 1.3   \n",
       "90      usgs-lcmap-hawaii-v10                USGS LCMAP Hawaii Collection 1.0   \n",
       "\n",
       "                                          description  \n",
       "42  This collection is derived from the [USGS 3DEP...  \n",
       "28  This collection contains source data from the ...  \n",
       "3   This collection is derived from the [USGS 3DEP...  \n",
       "43  This collection is derived from the [USGS 3DEP...  \n",
       "41  This collection is derived from the [USGS 3DEP...  \n",
       "..                                                ...  \n",
       "15  [TerraClimate](http://www.climatologylab.org/t...  \n",
       "55  The [2020 Census](https://www.census.gov/progr...  \n",
       "84  The Cropland Data Layer (CDL) is a product of ...  \n",
       "89  The [Land Change Monitoring, Assessment, and P...  \n",
       "90  The [Land Change Monitoring, Assessment, and P...  \n",
       "\n",
       "[126 rows x 3 columns]"
      ]
     },
     "execution_count": 56,
     "metadata": {},
     "output_type": "execute_result"
    }
   ],
   "source": [
    "collections = geoai.pc_collection_list()\n",
    "collections"
   ]
  },
  {
   "cell_type": "code",
   "execution_count": null,
   "id": "6acf2fce",
   "metadata": {},
   "outputs": [
    {
     "name": "stdout",
     "output_type": "stream",
     "text": [
      "Found 8 items matching search criteria\n"
     ]
    },
    {
     "data": {
      "text/plain": [
       "[<Item id=S1A_EW_GRDM_1SDH_20230113T080117_20230113T080221_046762_059B29>,\n",
       " <Item id=S1A_EW_GRDM_1SDH_20230111T081731_20230111T081835_046733_059A35>,\n",
       " <Item id=S1A_IW_GRDH_1SSH_20230108T110719_20230108T110744_046691_0598C4>,\n",
       " <Item id=S1A_EW_GRDM_1SDH_20230108T075312_20230108T075416_046689_0598B0>,\n",
       " <Item id=S1A_EW_GRDM_1SDH_20230107T071233_20230107T071337_046674_059825>,\n",
       " <Item id=S1A_EW_GRDM_1SDH_20230106T080926_20230106T081030_046660_0597B4>,\n",
       " <Item id=S1A_EW_GRDM_1SDH_20230104T082540_20230104T082644_046631_0596C9>,\n",
       " <Item id=S1A_EW_GRDM_1SDH_20230101T080118_20230101T080222_046587_059549>]"
      ]
     },
     "execution_count": 59,
     "metadata": {},
     "output_type": "execute_result"
    }
   ],
   "source": [
    "items = geoai.pc_stac_search(\n",
    "    collection=\"sentinel-1-grd\",\n",
    "    bbox=bbox,  \n",
    "    time_range=datetime_range,\n",
    "    max_items=10,\n",
    ")\n",
    "\n",
    "items"
   ]
  },
  {
   "cell_type": "code",
   "execution_count": null,
   "id": "a82b3e55",
   "metadata": {},
   "outputs": [
    {
     "data": {
      "text/plain": [
       "['hh',\n",
       " 'hv',\n",
       " 'thumbnail',\n",
       " 'safe-manifest',\n",
       " 'schema-noise-hh',\n",
       " 'schema-noise-hv',\n",
       " 'schema-product-hh',\n",
       " 'schema-product-hv',\n",
       " 'schema-calibration-hh',\n",
       " 'schema-calibration-hv',\n",
       " 'tilejson',\n",
       " 'rendered_preview']"
      ]
     },
     "execution_count": 63,
     "metadata": {},
     "output_type": "execute_result"
    }
   ],
   "source": [
    "# 打印item的文件信息\n",
    "geoai.pc_item_asset_list(items[0])\n",
    "# 可视化\n",
    "# geoai.view_pc_item(item=items[0],  basemap=\"SATELLITE\")"
   ]
  },
  {
   "cell_type": "code",
   "execution_count": null,
   "id": "ad5f5ef7",
   "metadata": {},
   "outputs": [],
   "source": [
    "# 可选 assets = [\"data\", \"rendered_preview\"]\n",
    "geoai.pc_stac_download(items[0], output_dir=output_dir)"
   ]
  },
  {
   "cell_type": "markdown",
   "id": "b200adbd",
   "metadata": {},
   "source": [
    "# Other\n",
    "参考：https://github.com/Rithvij/Copernicus-STAC-API---Sentinel-1-Workflow"
   ]
  },
  {
   "cell_type": "code",
   "execution_count": null,
   "id": "c4fbb46c",
   "metadata": {},
   "outputs": [
    {
     "name": "stdout",
     "output_type": "stream",
     "text": [
      "找到 14 个符合条件的项目。\n"
     ]
    }
   ],
   "source": [
    "import os\n",
    "import numpy as np\n",
    "import xarray as xr\n",
    "from pystac_client import Client\n",
    "from shapely.geometry import mapping, shape\n",
    "\n",
    "# STAC API client setup\n",
    "client = Client.open(\"https://catalogue.dataspace.copernicus.eu/stac\") \n",
    "collection = \"SENTINEL-1\"\n",
    "\n",
    "# 使用几何图形（而不仅仅是边界框）进行更精确的搜索\n",
    "search = client.search(\n",
    "    collections=[collection],\n",
    "    bbox=bbox,  # 使用边界框\n",
    "    datetime=datetime_range,  # 日期范围\n",
    "    limit=200  # 增加结果限制\n",
    ")\n",
    "\n",
    "# 获取所有匹配项目\n",
    "items = list(search.get_items())\n",
    "\n",
    "# 筛选符合条件的数据（操作模式为 'EW' 且处理级别为 'LEVEL1'）\n",
    "matching_items = []\n",
    "for item in items:\n",
    "    # 检查操作模式\n",
    "    if item.properties.get('operationalMode') == 'EW':\n",
    "        # 检查处理级别\n",
    "        processing_level = item.properties.get('processingLevel', '')\n",
    "        # print(item.properties)\n",
    "        # 只选择处理级别为LEVEL1 的GRDM产品\n",
    "        if processing_level == 'LEVEL1':\n",
    "            # 检查几何相交（精确过滤）\n",
    "            item_geometry = shape(item.geometry)\n",
    "            # 计算交集面积与ROI面积的比例\n",
    "            intersection_area = roi_geometry.intersection(item_geometry).area\n",
    "            roi_area = roi_geometry.area\n",
    "            intersection_ratio = intersection_area / roi_area\n",
    "            if roi_geometry.intersects(item_geometry):\n",
    "                matching_items.append(item)\n",
    "\n",
    "print(f\"找到 {len(matching_items)} 个符合条件的项目。\")"
   ]
  },
  {
   "cell_type": "code",
   "execution_count": null,
   "id": "199f7975",
   "metadata": {},
   "outputs": [],
   "source": [
    "import requests\n",
    "def get_keycloak(username: str, password: str) -> str:\n",
    "    data = {\n",
    "        \"client_id\": \"cdse-public\",\n",
    "        \"username\": username,\n",
    "        \"password\": password,\n",
    "        \"grant_type\": \"password\",\n",
    "    }\n",
    "    try:\n",
    "        r = requests.post(\n",
    "            \"https://identity.dataspace.copernicus.eu/auth/realms/CDSE/protocol/openid-connect/token\",\n",
    "            data=data,\n",
    "        )\n",
    "        r.raise_for_status()\n",
    "    except Exception as e:\n",
    "        raise Exception(\n",
    "            f\"Keycloak token creation failed. Reponse from the server was: {r.json()}\"\n",
    "        )\n",
    "    return r.json()[\"access_token\"]\n",
    "\n",
    "# 填写用户名和密码\n",
    "keycloak_token = get_keycloak('xxx','xxx')\n",
    "keycloak_token\n"
   ]
  },
  {
   "cell_type": "code",
   "execution_count": null,
   "id": "e60b00da",
   "metadata": {},
   "outputs": [
    {
     "name": "stdout",
     "output_type": "stream",
     "text": [
      "Downloading from: https://zipper.dataspace.copernicus.eu/odata/v1/Products(49d7e67a-908a-44aa-852b-fe0bf0a483e4)/$value\n",
      "Downloaded: ./data\\S1A_EW_GRDM_1SDH_20230113T080117_20230113T080221_046762_059B29_FC3A_COG.SAFE.zip\n"
     ]
    }
   ],
   "source": [
    "import os\n",
    "import requests\n",
    "\n",
    "# Function to download the item\n",
    "def download_item(item):\n",
    "    # keycloak_token = get_keycloak('xxx','xxx')\n",
    "    \n",
    "    # Access the 'PRODUCT' asset to get the download link\n",
    "    product_asset = item.assets.get('PRODUCT')\n",
    "    \n",
    "    if product_asset:\n",
    "        # Extract the product ID from the asset URL\n",
    "        product_id = product_asset.href.split('(')[1].split(')')[0]  # Extract the product ID\n",
    "        \n",
    "        # Construct the download URL for the ZIP file\n",
    "        download_url = f'https://zipper.dataspace.copernicus.eu/odata/v1/Products({product_id})/$value'\n",
    "\n",
    "        print(f\"Downloading from: {download_url}\")\n",
    "        \n",
    "        # Optional: Use headers for authorization if needed\n",
    "        headers = {\n",
    "            'Authorization': f\"Bearer {keycloak_token}\"  # Replace with your actual token if needed\n",
    "        }\n",
    "        \n",
    "        # Download the file\n",
    "        response = requests.get(download_url, headers=headers)\n",
    "        \n",
    "        if response.status_code == 200:\n",
    "            # Save the file as a ZIP\n",
    "            file_name = os.path.join(output_dir, f\"{item.id}.zip\")  # Change the extension to .zip\n",
    "            with open(file_name, 'wb') as f:\n",
    "                f.write(response.content)\n",
    "            print(f\"Downloaded: {file_name}\")\n",
    "        else:\n",
    "            print(f\"Failed to download {item.id} with status code: {response.status_code}\")\n",
    "            print(f\"Error Message: {response.text if response.text else 'No additional error message'}\")\n",
    "    else:\n",
    "        print(f\"No PRODUCT asset found for {item.id}\")\n",
    "\n",
    "#Iterate through filtered items and download each\n",
    "for item in matching_items:\n",
    "    download_item(item)\n",
    "    break\n"
   ]
  }
 ],
 "metadata": {
  "kernelspec": {
   "display_name": "gis",
   "language": "python",
   "name": "python3"
  },
  "language_info": {
   "codemirror_mode": {
    "name": "ipython",
    "version": 3
   },
   "file_extension": ".py",
   "mimetype": "text/x-python",
   "name": "python",
   "nbconvert_exporter": "python",
   "pygments_lexer": "ipython3",
   "version": "3.10.18"
  }
 },
 "nbformat": 4,
 "nbformat_minor": 5
}
